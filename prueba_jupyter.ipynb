{
 "metadata": {
  "language_info": {
   "codemirror_mode": {
    "name": "ipython",
    "version": 3
   },
   "file_extension": ".py",
   "mimetype": "text/x-python",
   "name": "python",
   "nbconvert_exporter": "python",
   "pygments_lexer": "ipython3",
   "version": 3
  },
  "orig_nbformat": 2,
  "kernelspec": {
   "name": "python_defaultSpec_1597099646877",
   "display_name": "Python 3.8.4 64-bit"
  }
 },
 "nbformat": 4,
 "nbformat_minor": 2,
 "cells": [
  {
   "cell_type": "code",
   "execution_count": 1,
   "metadata": {},
   "outputs": [
    {
     "output_type": "execute_result",
     "data": {
      "text/plain": "9"
     },
     "metadata": {},
     "execution_count": 1
    }
   ],
   "source": [
    "5+4"
   ]
  },
  {
   "cell_type": "code",
   "execution_count": 2,
   "metadata": {
    "tags": []
   },
   "outputs": [
    {
     "output_type": "stream",
     "name": "stdout",
     "text": "karis robalino\n"
    }
   ],
   "source": [
    "print(\"karis robalino\")\n"
   ]
  },
  {
   "cell_type": "code",
   "execution_count": 3,
   "metadata": {
    "tags": []
   },
   "outputs": [
    {
     "output_type": "stream",
     "name": "stdout",
     "text": "edison y karis\n"
    }
   ],
   "source": [
    "m = \"edison y\"\n",
    "print(m+\" karis\")"
   ]
  },
  {
   "cell_type": "code",
   "execution_count": 4,
   "metadata": {},
   "outputs": [
    {
     "output_type": "execute_result",
     "data": {
      "text/plain": "3"
     },
     "metadata": {},
     "execution_count": 4
    }
   ],
   "source": [
    "mi_lista = [1,2,3]\n",
    "mi_lista = [\"STRING\",100,23.2]\n",
    "len(mi_lista)\n"
   ]
  },
  {
   "cell_type": "code",
   "execution_count": 5,
   "metadata": {},
   "outputs": [
    {
     "output_type": "execute_result",
     "data": {
      "text/plain": "'one'"
     },
     "metadata": {},
     "execution_count": 5
    }
   ],
   "source": [
    "mi_lista = [\"one\",\"two\",\"three\"]\n",
    "mi_lista[0]\n"
   ]
  },
  {
   "cell_type": "code",
   "execution_count": 6,
   "metadata": {},
   "outputs": [
    {
     "output_type": "execute_result",
     "data": {
      "text/plain": "['two', 'three']"
     },
     "metadata": {},
     "execution_count": 6
    }
   ],
   "source": [
    "mi_lista = [\"one\",\"two\",\"three\"]\n",
    "mi_lista[1:]"
   ]
  },
  {
   "cell_type": "code",
   "execution_count": 7,
   "metadata": {},
   "outputs": [
    {
     "output_type": "execute_result",
     "data": {
      "text/plain": "['one', 'two', 'three', 'cuatro', 'cinco']"
     },
     "metadata": {},
     "execution_count": 7
    }
   ],
   "source": [
    "otro_lista = [\"cuatro\",\"cinco\"]\n",
    "mi_lista + otro_lista"
   ]
  },
  {
   "cell_type": "code",
   "execution_count": 10,
   "metadata": {
    "tags": []
   },
   "outputs": [
    {
     "output_type": "stream",
     "name": "stdout",
     "text": "['one', 'two', 'three', 'cuatro', 'cinco']\n"
    },
    {
     "output_type": "execute_result",
     "data": {
      "text/plain": "['one', 'two', 'three', 'cuatro', 'cinco']"
     },
     "metadata": {},
     "execution_count": 10
    }
   ],
   "source": [
    "nueva_lista= mi_lista + otro_lista\n",
    "print(nueva_lista)\n",
    "nueva_lista"
   ]
  },
  {
   "cell_type": "code",
   "execution_count": 11,
   "metadata": {},
   "outputs": [
    {
     "output_type": "execute_result",
     "data": {
      "text/plain": "['UNO TODO CAPS', 'two', 'three', 'cuatro', 'cinco']"
     },
     "metadata": {},
     "execution_count": 11
    }
   ],
   "source": [
    "nueva_lista[0]= \"UNO TODO CAPS\"\n",
    "nueva_lista"
   ]
  },
  {
   "cell_type": "code",
   "execution_count": 12,
   "metadata": {},
   "outputs": [
    {
     "output_type": "execute_result",
     "data": {
      "text/plain": "['UNO TODO CAPS', 'two', 'three', 'cuatro', 'cinco', 'six']"
     },
     "metadata": {},
     "execution_count": 12
    }
   ],
   "source": [
    "nueva_lista.append(\"six\")\n",
    "nueva_lista"
   ]
  },
  {
   "cell_type": "code",
   "execution_count": 13,
   "metadata": {},
   "outputs": [
    {
     "output_type": "execute_result",
     "data": {
      "text/plain": "['UNO TODO CAPS', 'two', 'three', 'cuatro', 'cinco', 'six', 'siete']"
     },
     "metadata": {},
     "execution_count": 13
    }
   ],
   "source": [
    "nueva_lista.append(\"siete\")\n",
    "nueva_lista"
   ]
  },
  {
   "cell_type": "code",
   "execution_count": 14,
   "metadata": {},
   "outputs": [
    {
     "output_type": "execute_result",
     "data": {
      "text/plain": "<function list.pop(index=-1, /)>"
     },
     "metadata": {},
     "execution_count": 14
    }
   ],
   "source": [
    "nueva_lista.pop\n"
   ]
  },
  {
   "cell_type": "code",
   "execution_count": 15,
   "metadata": {},
   "outputs": [
    {
     "output_type": "execute_result",
     "data": {
      "text/plain": "'siete'"
     },
     "metadata": {},
     "execution_count": 15
    }
   ],
   "source": [
    "nueva_lista.pop()"
   ]
  },
  {
   "cell_type": "code",
   "execution_count": 16,
   "metadata": {},
   "outputs": [
    {
     "output_type": "execute_result",
     "data": {
      "text/plain": "['UNO TODO CAPS', 'two', 'three', 'cuatro', 'cinco', 'six']"
     },
     "metadata": {},
     "execution_count": 16
    }
   ],
   "source": [
    "nueva_lista"
   ]
  },
  {
   "cell_type": "code",
   "execution_count": 19,
   "metadata": {},
   "outputs": [
    {
     "output_type": "execute_result",
     "data": {
      "text/plain": "'six'"
     },
     "metadata": {},
     "execution_count": 19
    }
   ],
   "source": [
    "popped_item = nueva_lista.pop()\n",
    "popped_item "
   ]
  },
  {
   "cell_type": "code",
   "execution_count": 20,
   "metadata": {},
   "outputs": [
    {
     "output_type": "execute_result",
     "data": {
      "text/plain": "'cinco'"
     },
     "metadata": {},
     "execution_count": 20
    }
   ],
   "source": [
    "nueva_lista.pop(-1)"
   ]
  },
  {
   "cell_type": "code",
   "execution_count": 23,
   "metadata": {},
   "outputs": [
    {
     "output_type": "execute_result",
     "data": {
      "text/plain": "['a', 'i', 'o', 'u', 'x']"
     },
     "metadata": {},
     "execution_count": 23
    }
   ],
   "source": [
    "nueva_lista = [\"a\",\"x\",\"i\",\"o\",\"u\"]\n",
    "lista_num = [1,2,3,4]\n",
    "#ordenamiento alfabetico\n",
    "nueva_lista.sort()\n",
    "nueva_lista"
   ]
  },
  {
   "cell_type": "code",
   "execution_count": null,
   "metadata": {},
   "outputs": [],
   "source": []
  }
 ]
}
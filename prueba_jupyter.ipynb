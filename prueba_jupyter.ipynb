{
 "metadata": {
  "language_info": {
   "codemirror_mode": {
    "name": "ipython",
    "version": 3
   },
   "file_extension": ".py",
   "mimetype": "text/x-python",
   "name": "python",
   "nbconvert_exporter": "python",
   "pygments_lexer": "ipython3",
   "version": 3
  },
  "orig_nbformat": 2,
  "kernelspec": {
   "name": "python_defaultSpec_1597183416635",
   "display_name": "Python 3.8.4 64-bit"
  }
 },
 "nbformat": 4,
 "nbformat_minor": 2,
 "cells": [
  {
   "cell_type": "code",
   "execution_count": 1,
   "metadata": {},
   "outputs": [
    {
     "output_type": "execute_result",
     "data": {
      "text/plain": "9"
     },
     "metadata": {},
     "execution_count": 1
    }
   ],
   "source": [
    "5+4"
   ]
  },
  {
   "cell_type": "code",
   "execution_count": 2,
   "metadata": {
    "tags": []
   },
   "outputs": [
    {
     "output_type": "stream",
     "name": "stdout",
     "text": "karis robalino\n"
    }
   ],
   "source": [
    "print(\"karis robalino\")\n"
   ]
  },
  {
   "cell_type": "code",
   "execution_count": 3,
   "metadata": {
    "tags": []
   },
   "outputs": [
    {
     "output_type": "stream",
     "name": "stdout",
     "text": "edison y karis\n"
    }
   ],
   "source": [
    "m = \"edison y\"\n",
    "print(m+\" karis\")"
   ]
  },
  {
   "cell_type": "code",
   "execution_count": 4,
   "metadata": {},
   "outputs": [
    {
     "output_type": "execute_result",
     "data": {
      "text/plain": "3"
     },
     "metadata": {},
     "execution_count": 4
    }
   ],
   "source": [
    "mi_lista = [1,2,3]\n",
    "mi_lista = [\"STRING\",100,23.2]\n",
    "len(mi_lista)\n"
   ]
  },
  {
   "cell_type": "code",
   "execution_count": 5,
   "metadata": {},
   "outputs": [
    {
     "output_type": "execute_result",
     "data": {
      "text/plain": "'one'"
     },
     "metadata": {},
     "execution_count": 5
    }
   ],
   "source": [
    "mi_lista = [\"one\",\"two\",\"three\"]\n",
    "mi_lista[0]\n"
   ]
  },
  {
   "cell_type": "code",
   "execution_count": 6,
   "metadata": {},
   "outputs": [
    {
     "output_type": "execute_result",
     "data": {
      "text/plain": "['two', 'three']"
     },
     "metadata": {},
     "execution_count": 6
    }
   ],
   "source": [
    "mi_lista = [\"one\",\"two\",\"three\"]\n",
    "mi_lista[1:]"
   ]
  },
  {
   "cell_type": "code",
   "execution_count": 7,
   "metadata": {},
   "outputs": [
    {
     "output_type": "execute_result",
     "data": {
      "text/plain": "['one', 'two', 'three', 'cuatro', 'cinco']"
     },
     "metadata": {},
     "execution_count": 7
    }
   ],
   "source": [
    "otro_lista = [\"cuatro\",\"cinco\"]\n",
    "mi_lista + otro_lista"
   ]
  },
  {
   "cell_type": "code",
   "execution_count": 10,
   "metadata": {
    "tags": []
   },
   "outputs": [
    {
     "output_type": "stream",
     "name": "stdout",
     "text": "['one', 'two', 'three', 'cuatro', 'cinco']\n"
    },
    {
     "output_type": "execute_result",
     "data": {
      "text/plain": "['one', 'two', 'three', 'cuatro', 'cinco']"
     },
     "metadata": {},
     "execution_count": 10
    }
   ],
   "source": [
    "nueva_lista= mi_lista + otro_lista\n",
    "print(nueva_lista)\n",
    "nueva_lista"
   ]
  },
  {
   "cell_type": "code",
   "execution_count": 11,
   "metadata": {},
   "outputs": [
    {
     "output_type": "execute_result",
     "data": {
      "text/plain": "['UNO TODO CAPS', 'two', 'three', 'cuatro', 'cinco']"
     },
     "metadata": {},
     "execution_count": 11
    }
   ],
   "source": [
    "nueva_lista[0]= \"UNO TODO CAPS\"\n",
    "nueva_lista"
   ]
  },
  {
   "cell_type": "code",
   "execution_count": 12,
   "metadata": {},
   "outputs": [
    {
     "output_type": "execute_result",
     "data": {
      "text/plain": "['UNO TODO CAPS', 'two', 'three', 'cuatro', 'cinco', 'six']"
     },
     "metadata": {},
     "execution_count": 12
    }
   ],
   "source": [
    "nueva_lista.append(\"six\")\n",
    "nueva_lista"
   ]
  },
  {
   "cell_type": "code",
   "execution_count": 13,
   "metadata": {},
   "outputs": [
    {
     "output_type": "execute_result",
     "data": {
      "text/plain": "['UNO TODO CAPS', 'two', 'three', 'cuatro', 'cinco', 'six', 'siete']"
     },
     "metadata": {},
     "execution_count": 13
    }
   ],
   "source": [
    "nueva_lista.append(\"siete\")\n",
    "nueva_lista"
   ]
  },
  {
   "cell_type": "code",
   "execution_count": 14,
   "metadata": {},
   "outputs": [
    {
     "output_type": "execute_result",
     "data": {
      "text/plain": "<function list.pop(index=-1, /)>"
     },
     "metadata": {},
     "execution_count": 14
    }
   ],
   "source": [
    "nueva_lista.pop\n"
   ]
  },
  {
   "cell_type": "code",
   "execution_count": 15,
   "metadata": {},
   "outputs": [
    {
     "output_type": "execute_result",
     "data": {
      "text/plain": "'siete'"
     },
     "metadata": {},
     "execution_count": 15
    }
   ],
   "source": [
    "nueva_lista.pop()"
   ]
  },
  {
   "cell_type": "code",
   "execution_count": 16,
   "metadata": {},
   "outputs": [
    {
     "output_type": "execute_result",
     "data": {
      "text/plain": "['UNO TODO CAPS', 'two', 'three', 'cuatro', 'cinco', 'six']"
     },
     "metadata": {},
     "execution_count": 16
    }
   ],
   "source": [
    "nueva_lista"
   ]
  },
  {
   "cell_type": "code",
   "execution_count": 19,
   "metadata": {},
   "outputs": [
    {
     "output_type": "execute_result",
     "data": {
      "text/plain": "'six'"
     },
     "metadata": {},
     "execution_count": 19
    }
   ],
   "source": [
    "popped_item = nueva_lista.pop()\n",
    "popped_item "
   ]
  },
  {
   "cell_type": "code",
   "execution_count": 20,
   "metadata": {},
   "outputs": [
    {
     "output_type": "execute_result",
     "data": {
      "text/plain": "'cinco'"
     },
     "metadata": {},
     "execution_count": 20
    }
   ],
   "source": [
    "nueva_lista.pop(-1)"
   ]
  },
  {
   "cell_type": "code",
   "execution_count": 23,
   "metadata": {},
   "outputs": [
    {
     "output_type": "execute_result",
     "data": {
      "text/plain": "['a', 'i', 'o', 'u', 'x']"
     },
     "metadata": {},
     "execution_count": 23
    }
   ],
   "source": [
    "nueva_lista = [\"a\",\"x\",\"i\",\"o\",\"u\"]\n",
    "lista_num = [1,2,3,4]\n",
    "#ordenamiento alfabetico\n",
    "nueva_lista.sort()\n",
    "nueva_lista"
   ]
  },
  {
   "cell_type": "code",
   "execution_count": 15,
   "metadata": {},
   "outputs": [
    {
     "output_type": "execute_result",
     "data": {
      "text/plain": "set()"
     },
     "metadata": {},
     "execution_count": 15
    }
   ],
   "source": [
    "#un set es un conjunto de daos no ordenados\n",
    "mi_conjuto = set()\n",
    "mi_conjuto"
   ]
  },
  {
   "cell_type": "code",
   "execution_count": 16,
   "metadata": {},
   "outputs": [
    {
     "output_type": "execute_result",
     "data": {
      "text/plain": "{1}"
     },
     "metadata": {},
     "execution_count": 16
    }
   ],
   "source": [
    "#metodo añadir en el set  \n",
    "mi_conjuto.add(1)\n",
    "mi_conjuto"
   ]
  },
  {
   "cell_type": "code",
   "execution_count": 17,
   "metadata": {},
   "outputs": [
    {
     "output_type": "execute_result",
     "data": {
      "text/plain": "{1, 2}"
     },
     "metadata": {},
     "execution_count": 17
    }
   ],
   "source": [
    "#el set solo recibe valores unicos añadidos por ejemplo no puede introducir dos veces un mismo elemento \n",
    "mi_conjuto.add(2)\n",
    "mi_conjuto"
   ]
  },
  {
   "cell_type": "code",
   "execution_count": 23,
   "metadata": {},
   "outputs": [
    {
     "output_type": "execute_result",
     "data": {
      "text/plain": "{1, 2, 3}"
     },
     "metadata": {},
     "execution_count": 23
    }
   ],
   "source": [
    "mylist = [1,1,1,1,1,1,1,2,2,2,2,2,3,3,3]\n",
    "set(mylist)"
   ]
  },
  {
   "cell_type": "code",
   "execution_count": 30,
   "metadata": {},
   "outputs": [
    {
     "output_type": "execute_result",
     "data": {
      "text/plain": "{'Mississippi'}"
     },
     "metadata": {},
     "execution_count": 30
    }
   ],
   "source": [
    "palabra = [\"Mississippi\"]\n",
    "set(palabra)"
   ]
  },
  {
   "cell_type": "code",
   "execution_count": 32,
   "metadata": {},
   "outputs": [
    {
     "output_type": "execute_result",
     "data": {
      "text/plain": "{'M', 'i', 'p', 's'}"
     },
     "metadata": {},
     "execution_count": 32
    }
   ],
   "source": [
    "set({\"M\",\"i\",\"s\",\"s\",\"i\",\"s\",\"s\",\"i\",\"p\",\"p\",\"i\",})"
   ]
  },
  {
   "cell_type": "code",
   "execution_count": 33,
   "metadata": {},
   "outputs": [
    {
     "output_type": "execute_result",
     "data": {
      "text/plain": "{1, 2, 3}"
     },
     "metadata": {},
     "execution_count": 33
    }
   ],
   "source": [
    "set([1,1,2,3])"
   ]
  },
  {
   "cell_type": "code",
   "execution_count": 35,
   "metadata": {
    "tags": []
   },
   "outputs": [
    {
     "output_type": "error",
     "ename": "SyntaxError",
     "evalue": "invalid syntax (<ipython-input-35-9fa06bd16e39>, line 3)",
     "traceback": [
      "\u001b[1;36m  File \u001b[1;32m\"<ipython-input-35-9fa06bd16e39>\"\u001b[1;36m, line \u001b[1;32m3\u001b[0m\n\u001b[1;33m    hola este es un archivo\u001b[0m\n\u001b[1;37m         ^\u001b[0m\n\u001b[1;31mSyntaxError\u001b[0m\u001b[1;31m:\u001b[0m invalid syntax\n"
     ]
    }
   ],
   "source": [
    "#sintaxis de un archivo\n",
    "%%writefile datos.dat\n",
    "hola este es un archivo\n",
    "esta es la segunda linea\n",
    "chao mundo"
   ]
  },
  {
   "cell_type": "code",
   "execution_count": 34,
   "metadata": {},
   "outputs": [
    {
     "output_type": "execute_result",
     "data": {
      "text/plain": "'hola este es un archivo\\nesta es la segunda inea\\nchao mundo\\n'"
     },
     "metadata": {},
     "execution_count": 34
    }
   ],
   "source": [
    "#asiganacion de una variable a un archivo\n",
    "datos.seek(0)\n",
    "datos = open(\"datos.dat\")\n",
    "datos.read()"
   ]
  },
  {
   "cell_type": "code",
   "execution_count": 38,
   "metadata": {},
   "outputs": [
    {
     "output_type": "execute_result",
     "data": {
      "text/plain": "'hola este es un archivo\\nesta es la segunda inea\\nchao mundo\\n'"
     },
     "metadata": {},
     "execution_count": 38
    }
   ],
   "source": [
    "#al hacer una segunda lectura va a dar un resultado inesperado por eso el metodo seek\n",
    "datos.read()\n",
    "#deja el cursor en el inicio cuando acaba de leerlo\n",
    "datos.seek(0)\n",
    "datos.read()"
   ]
  },
  {
   "cell_type": "code",
   "execution_count": 57,
   "metadata": {},
   "outputs": [],
   "source": [
    "datos.seek(0)\n",
    "datos.readlines()\n"
   ]
  },
  {
   "cell_type": "code",
   "execution_count": 60,
   "metadata": {},
   "outputs": [],
   "source": [
    "datos.close()\n",
    "diccionario = open(\"C:\\\\Users\\\\SONY\\\\Desktop\\\\Nueva carpeta\\\\kichuabueno\\\\diccionario.dat\")"
   ]
  },
  {
   "cell_type": "code",
   "execution_count": 92,
   "metadata": {},
   "outputs": [],
   "source": [
    "with open(\"C:\\\\Users\\\\SONY\\\\Desktop\\\\Nueva carpeta\\\\kichuabueno\\\\diccionario.dat\") as nuevo_Archivo:\n",
    "    contenido = nuevo_Archivo.readlines()"
   ]
  },
  {
   "cell_type": "code",
   "execution_count": 93,
   "metadata": {},
   "outputs": [
    {
     "output_type": "execute_result",
     "data": {
      "text/plain": "['achik_mama\\n',\n 'madrina\\n',\n 'achik_wawa\\n',\n 'ahijado\\n',\n 'achik yaya\\n',\n 'padrino\\n',\n 'achik\\n',\n 'claro\\n',\n 'akuna\\n',\n 'masticar\\n',\n 'allÃ\\xad\\n',\n 'bien\\n',\n 'allku\\n',\n 'perro\\n',\n 'allpa\\n',\n 'tierra\\n',\n 'amaru\\n',\n 'serpiente\\n',\n 'ampana\\n',\n 'bostezar\\n',\n 'amsa\\n',\n 'opaco\\n',\n 'amuk\\n',\n 'suave\\n',\n 'anaku\\n',\n 'falda\\n',\n 'anka\\n',\n 'gallinazo\\n',\n 'aÃ±anku\\n',\n 'hormiga\\n',\n 'aÃ±as\\n',\n 'zorro\\n',\n 'apamuna\\n',\n 'traer\\n',\n 'apana\\n',\n 'llevar\\n',\n 'apankura\\n',\n 'cangrejo\\n',\n 'aparina\\n',\n 'cargar\\n',\n 'apyu\\n',\n 'caballo\\n',\n 'arina\\n',\n 'estrenar\\n',\n 'armana\\n',\n 'baÃ±ar\\n',\n 'asina\\n',\n 'reÃ\\xadr\\n',\n 'atallpa\\n',\n 'gallina\\n',\n 'atsiyana\\n',\n 'estornudar\\n',\n 'atuk\\n',\n 'lobo\\n',\n 'awana\\n',\n 'tejer\\n',\n 'aycha\\n',\n 'cuerpo\\n',\n 'ayllu\\n',\n 'familia\\n',\n 'aysana\\n',\n 'arrastrar\\n',\n 'bacha\\n',\n 'tiempo\\n',\n 'challuwa\\n',\n 'pez\\n',\n 'challwa\\n',\n 'pescado\\n',\n 'chapana\\n',\n 'vigilar\\n',\n 'charik\\n',\n 'rico\\n',\n 'chawpina\\n',\n 'partir\\n',\n 'chayshuk\\n',\n 'otra\\n',\n 'chiri\\n',\n 'frio\\n',\n 'chita\\n',\n 'chivo\\n',\n 'chuchi\\n',\n 'pollo\\n',\n 'chukuri\\n',\n 'comadreja\\n',\n 'chumpi\\n',\n 'faja\\n',\n 'churana\\n',\n 'poner\\n',\n 'churana\\n',\n 'ropa\\n',\n 'churi\\n',\n 'hijo\\n',\n 'churu\\n',\n 'caracol\\n',\n 'chushak\\n',\n 'vacio\\n',\n 'chushik\\n',\n 'lechuza\\n',\n 'chuspi\\n',\n 'mosca\\n',\n 'chuya\\n',\n 'aguado\\n',\n 'guagua\\n',\n 'niÃ±o\\n',\n 'hachun\\n',\n 'cuÃ±ada\\n',\n 'halar\\n',\n 'aysana\\n',\n 'hampatu\\n',\n 'rana\\n',\n 'hampina\\n',\n 'curar\\n',\n 'hapina\\n',\n 'cosechar\\n',\n 'harkana\\n',\n 'atrancar\\n',\n 'hatun mama\\n',\n 'abuela\\n',\n 'hatun yaya\\n',\n 'abuelo\\n',\n 'hatun\\n',\n 'grande\\n',\n 'hatuna\\n',\n 'vender\\n',\n 'hawa\\n',\n 'arriba\\n',\n 'humpina\\n',\n 'sudar\\n',\n 'ilakta\\n',\n 'pueblo\\n',\n 'inti_suyu\\n',\n 'este\\n',\n 'inti\\n',\n 'sol\\n',\n 'iÃ±ina\\n',\n 'creer\\n',\n 'ispa\\n',\n 'mear\\n',\n 'kachi\\n',\n 'sal\\n',\n 'kalak\\n',\n 'debil\\n',\n 'kallariy\\n',\n 'principio\\n',\n 'kallpana\\n',\n 'correr\\n',\n 'kana\\n',\n 'estar\\n',\n 'kancha\\n',\n 'afuera\\n',\n 'kari\\n',\n 'hombre\\n',\n 'kasik\\n',\n 'paz\\n',\n 'kaspana\\n',\n 'chamuscar\\n',\n 'katina\\n',\n 'seguir\\n',\n 'katsu\\n',\n 'escarabajo\\n',\n 'kawana\\n',\n 'cantar\\n',\n 'kawchuna\\n',\n 'torcer\\n',\n 'kawsay\\n',\n 'hogar\\n',\n 'kay\\n',\n 'aquÃ\\xad\\n',\n 'khari\\n',\n 'masculino\\n',\n 'khuyana\\n',\n 'amar\\n',\n 'kikin\\n',\n 'usted\\n',\n 'kiliki\\n',\n 'quilico\\n',\n 'killa\\n',\n 'luna\\n',\n 'killka_katina\\n',\n 'leer\\n',\n 'killkana\\n',\n 'escribir\\n',\n 'kimina\\n',\n 'acercar\\n',\n 'kinku\\n',\n 'curva\\n',\n 'kinti\\n',\n 'picaflor\\n',\n 'kirkinchu\\n',\n 'armadillo\\n',\n 'kuchi\\n',\n 'cerdo\\n',\n 'kukulli\\n',\n 'paloma\\n',\n 'kullki\\n',\n 'dinero\\n',\n 'kulta\\n',\n 'pato\\n',\n 'kuna\\n',\n 'dar\\n',\n 'kunkallina\\n',\n 'bufanda\\n',\n 'kuntur\\n',\n 'condor\\n',\n 'kunuk\\n',\n 'caliente\\n',\n 'kurikinka\\n',\n 'curiquingue\\n',\n 'kuru\\n',\n 'gusano\\n',\n 'kusa\\n',\n 'esposo\\n',\n 'kusana\\n',\n 'asar\\n',\n 'kushi\\n',\n 'alegre\\n',\n 'kushillu\\n',\n 'mono\\n',\n 'kushma\\n',\n 'saco\\n',\n 'kuskunku\\n',\n 'buho\\n',\n 'kuy\\n',\n 'cuy\\n',\n 'kuyashka\\n',\n 'amante\\n',\n 'kuyka\\n',\n 'lombrÃ\\xadz\\n',\n 'kuytsa\\n',\n 'soltera\\n',\n 'lachuri\\n',\n 'hijastro\\n',\n 'lamama\\n',\n 'madrastra\\n',\n 'lapani\\n',\n 'hermanastra\\n',\n 'laushi\\n',\n 'hijastra\\n',\n 'lawawki\\n',\n 'hermanastro\\n',\n 'layaya\\n',\n 'padrastro\\n',\n 'llaki\\n',\n 'triste\\n',\n 'llama\\n',\n 'oveja\\n',\n 'llashak\\n',\n 'pesado\\n',\n 'llawtu\\n',\n 'corona\\n',\n 'lluqui\\n',\n 'izquierdo\\n',\n 'llullana\\n',\n 'mentir\\n',\n 'lulun\\n',\n 'huevo\\n',\n 'machana\\n',\n 'emborrachar\\n',\n 'makana\\n',\n 'pegar\\n',\n 'makanakuy\\n',\n 'guerra\\n',\n 'maki watana\\n',\n 'pulsera\\n',\n 'mallina\\n',\n 'probar\\n',\n 'mama\\n',\n 'madre\\n',\n 'mana_alli\\n',\n 'malo\\n',\n 'maÃ±ana\\n',\n 'pedir\\n',\n 'maqui\\n',\n 'mano\\n',\n 'masa\\n',\n 'cuÃ±ado\\n',\n 'mashi\\n',\n 'amigo\\n',\n 'mi_si\\n',\n 'gato\\n',\n 'michina\\n',\n 'pastar\\n',\n 'mikuna\\n',\n 'comida\\n',\n 'millanayay\\n',\n 'feo\\n',\n 'minkana\\n',\n 'encargar\\n',\n 'mirachina\\n',\n 'aumentar\\n',\n 'mishi\\n',\n 'gato\\n',\n 'mishki\\n',\n 'dulce\\n',\n 'mitsana\\n',\n 'mezquinar\\n',\n 'mmashi\\n',\n 'amigo\\n',\n 'muchana\\n',\n 'besar\\n',\n 'muchiku\\n',\n 'sombrero\\n',\n 'munana\\n',\n 'querer\\n',\n 'muntira\\n',\n 'gorra\\n',\n 'mushuk\\n',\n 'nuevo\\n',\n 'muskuna\\n',\n 'soÃ±ar\\n',\n 'muyuna\\n',\n 'rotar\\n',\n 'munzura\\n',\n 'constelacion\\n',\n 'nanay\\n',\n 'dolor\\n',\n 'nina_kuru\\n',\n 'luciernaga\\n',\n 'niÃ±a\\n',\n 'decir\\n',\n 'niÃ±a\\n',\n 'fuego\\n',\n 'nuka\\n',\n 'yo\\n',\n 'Ã±aÃ±a\\n',\n 'hermana\\n',\n 'Ã±aÃ±u\\n',\n 'delgado\\n',\n 'Ã±awpana\\n',\n 'adelantar\\n',\n 'pakana\\n',\n 'esconder\\n',\n 'pakcha\\n',\n 'sÃ¡bana\\n',\n 'pani\\n',\n 'hermana\\n',\n 'paskana\\n',\n 'abrir\\n',\n 'paya_mama\\n',\n 'anciana\\n',\n 'paya\\n',\n 'vieja\\n',\n 'phankalla\\n',\n 'liviano\\n',\n 'phatsayana\\n',\n 'separar\\n',\n 'piki\\n',\n 'pulga\\n',\n 'pillpintu\\n',\n 'mariposa\\n',\n 'pintu usuta\\n',\n 'medias\\n',\n 'pintu\\n',\n 'trapo\\n',\n 'pishku\\n',\n 'ave\\n',\n 'puma\\n',\n 'puma\\n',\n 'puncha\\n',\n 'dia\\n',\n 'puÃ±una\\n',\n 'dormir\\n',\n 'purik\\n',\n 'caminante\\n',\n 'purina\\n',\n 'caminar\\n',\n 'putu\\n',\n 'corto\\n',\n 'raku_kushma\\n',\n 'abrigo\\n',\n 'raku\\n',\n 'grueso\\n',\n 'rantina\\n',\n 'comprar\\n',\n 'raymi\\n',\n 'fiesta\\n',\n 'riksi\\n',\n 'conocido\\n',\n 'rimak\\n',\n 'hablante\\n',\n 'rimana\\n',\n 'hablar\\n',\n 'rinrina\\n',\n 'arete\\n',\n 'ruku_yaya\\n',\n 'anciano\\n',\n 'ruku\\n',\n 'viejo\\n',\n 'runa\\n',\n 'ser humano\\n',\n 'ruwana\\n',\n 'poncho\\n',\n 'sacha\\n',\n 'monte\\n',\n 'sakina\\n',\n 'abandonar\\n',\n 'saksana\\n',\n 'hartar\\n',\n 'samana\\n',\n 'descansar\\n',\n 'samay\\n',\n 'aire\\n',\n 'sami\\n',\n 'alma\\n',\n 'sanku\\n',\n 'espeso\\n',\n 'sapalla\\n',\n 'viudo\\n',\n 'shayak\\n',\n 'vertical\\n',\n 'shikra\\n',\n 'bolso\\n',\n 'shikshi\\n',\n 'comezÃ³n\\n',\n 'shinga\\n',\n 'nariz\\n',\n 'shiwi\\n',\n 'anillo\\n',\n 'shuwana\\n',\n 'robar\\n',\n 'simi\\n',\n 'boca\\n',\n 'sinchi\\n',\n 'duro\\n',\n 'sinchi\\n',\n 'fuerte\\n',\n 'sirana\\n',\n 'coser\\n',\n 'sirik\\n',\n 'horizontal\\n',\n 'sirina\\n',\n 'yacer\\n',\n 'sisa\\n',\n 'flor\\n',\n 'suchu\\n',\n 'paralÃ\\xadtico\\n',\n 'sumak\\n',\n 'bonito\\n',\n 'suni\\n',\n 'largo\\n',\n 'takarina\\n',\n 'tocar\\n',\n 'tarpuna\\n',\n 'sembrar\\n',\n 'taruka\\n',\n 'venado\\n',\n 'tikrana\\n',\n 'volver\\n',\n 'tinkina\\n',\n 'unir\\n',\n 'tiya mama\\n',\n 'tÃ\\xada\\n',\n 'tiyak\\n',\n 'existe\\n',\n 'tiyu yaya\\n',\n 'tÃ\\xado\\n',\n 'tsia\\n',\n 'liendra\\n',\n 'tsiklla\\n',\n 'recto\\n',\n 'tsiknina\\n',\n 'odiar\\n',\n 'tsini kuru\\n',\n 'larva\\n',\n 'tukuriy\\n',\n 'fin\\n',\n 'tupu\\n',\n 'prendedor\\n',\n 'tupuna\\n',\n 'medir\\n',\n 'turi\\n',\n 'hermano \\n',\n 'tushuna\\n',\n 'bailar\\n',\n 'tuta_suyu\\n',\n 'oeste\\n',\n 'tuta\\n',\n 'noche\\n',\n 'uchilla\\n',\n 'pequeÃ±o\\n',\n 'uchu\\n',\n 'ajÃ\\xad\\n',\n 'ukllana\\n',\n 'abrazar\\n',\n 'uku_kushma\\n',\n 'camiseta\\n',\n 'uku\\n',\n 'adentro\\n',\n 'ukucha\\n',\n 'raton\\n',\n 'upa\\n',\n 'mudo\\n',\n 'uphiyana\\n',\n 'beber\\n',\n 'uray suyu\\n',\n 'norte\\n',\n 'uray\\n',\n 'inclinado_abajo\\n',\n 'urmana\\n',\n 'caer\\n',\n 'urpi\\n',\n 'tÃ³rtola\\n',\n 'uru\\n',\n 'araÃ±a\\n',\n 'usa\\n',\n 'piojo\\n',\n 'ushi\\n',\n 'hija\\n',\n 'usuta\\n',\n 'alpargates\\n',\n 'usuta\\n',\n 'zapato\\n',\n 'uyana\\n',\n 'oÃ\\xadr\\n',\n 'wachana\\n',\n 'nacer\\n',\n 'wachariy\\n',\n 'nacimiento\\n',\n 'wakana\\n',\n 'llorar\\n',\n 'wakcha\\n',\n 'huÃ©rfano\\n',\n 'wakcha\\n',\n 'pobre\\n',\n 'wakra\\n',\n 'ganado\\n',\n 'waksa\\n',\n 'lagartija\\n',\n 'walaku\\n',\n 'rana\\n',\n 'wallka\\n',\n 'collar\\n',\n 'waman\\n',\n 'gavilan\\n',\n 'wampra\\n',\n 'joven\\n',\n 'wampra\\n',\n 'soltero\\n',\n 'waÃ±una\\n',\n 'morir\\n',\n 'waÃ±u\\n',\n 'muerte\\n',\n 'wara\\n',\n 'pantalon\\n',\n 'warmi_wara\\n',\n 'blusa\\n',\n 'warmi\\n',\n 'mujer\\n',\n 'wasi\\n',\n 'casa\\n',\n 'wata\\n',\n 'aÃ±o\\n',\n 'wawa\\n',\n 'niÃ±o\\n',\n 'wawki\\n',\n 'hermano\\n',\n 'wichay_suyu\\n',\n 'sur\\n',\n 'wichay\\n',\n 'inclinado\\n',\n 'wiÃ±ana\\n',\n 'crecer\\n',\n 'yachakuna\\n',\n 'aprender\\n',\n 'yaku\\n',\n 'agua\\n',\n 'yana\\n',\n 'negro\\n',\n 'yanapana\\n',\n 'ayudar\\n',\n 'yanuna\\n',\n 'cocinar\\n',\n 'yawati\\n',\n 'tortuga\\n',\n 'tayta\\n',\n 'padre\\n',\n 'yupana\\n',\n 'contar\\n',\n 'yupaychana\\n',\n 'agradecer\\n',\n 'yurak\\n',\n 'blanco\\n',\n 'yuyana\\n',\n 'pensar\\n',\n 'kawsankichu\\n',\n 'hola\\n',\n 'tunu\\n',\n 'como\\n',\n 'tiyanki\\n',\n 'estas']"
     },
     "metadata": {},
     "execution_count": 93
    }
   ],
   "source": [
    "contenido"
   ]
  },
  {
   "cell_type": "code",
   "execution_count": 97,
   "metadata": {},
   "outputs": [
    {
     "output_type": "error",
     "ename": "AttributeError",
     "evalue": "'list' object has no attribute 'close'",
     "traceback": [
      "\u001b[1;31m---------------------------------------------------------------------------\u001b[0m",
      "\u001b[1;31mAttributeError\u001b[0m                            Traceback (most recent call last)",
      "\u001b[1;32m<ipython-input-97-f15b89f018f9>\u001b[0m in \u001b[0;36m<module>\u001b[1;34m\u001b[0m\n\u001b[1;32m----> 1\u001b[1;33m \u001b[0mcontenido\u001b[0m\u001b[1;33m.\u001b[0m\u001b[0mclose\u001b[0m\u001b[1;33m(\u001b[0m\u001b[1;33m)\u001b[0m\u001b[1;33m\u001b[0m\u001b[1;33m\u001b[0m\u001b[0m\n\u001b[0m\u001b[0;32m      2\u001b[0m \u001b[1;32mwith\u001b[0m \u001b[0mopen\u001b[0m\u001b[1;33m(\u001b[0m\u001b[1;34m\"datos.dat\"\u001b[0m\u001b[1;33m,\u001b[0m\u001b[0mmode\u001b[0m\u001b[1;33m=\u001b[0m\u001b[1;34m\"r\"\u001b[0m\u001b[1;33m)\u001b[0m \u001b[1;32mas\u001b[0m \u001b[0mnuevo\u001b[0m\u001b[1;33m:\u001b[0m\u001b[1;33m\u001b[0m\u001b[1;33m\u001b[0m\u001b[0m\n\u001b[0;32m      3\u001b[0m     \u001b[0mcontenido\u001b[0m \u001b[1;33m=\u001b[0m \u001b[0mnuevo\u001b[0m\u001b[1;33m.\u001b[0m\u001b[0mread\u001b[0m\u001b[1;33m(\u001b[0m\u001b[1;33m)\u001b[0m\u001b[1;33m\u001b[0m\u001b[1;33m\u001b[0m\u001b[0m\n\u001b[0;32m      4\u001b[0m     \u001b[0mcontenido\u001b[0m\u001b[1;33m\u001b[0m\u001b[1;33m\u001b[0m\u001b[0m\n",
      "\u001b[1;31mAttributeError\u001b[0m: 'list' object has no attribute 'close'"
     ]
    }
   ],
   "source": [
    "contenido.close()\n",
    "with open(\"datos.dat\",mode=\"r\") as nuevo:\n",
    "    contenido = nuevo.read()\n",
    "    contenido"
   ]
  },
  {
   "cell_type": "code",
   "execution_count": null,
   "metadata": {},
   "outputs": [],
   "source": []
  }
 ]
}
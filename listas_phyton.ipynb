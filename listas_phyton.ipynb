{
 "metadata": {
  "language_info": {
   "codemirror_mode": {
    "name": "ipython",
    "version": 3
   },
   "file_extension": ".py",
   "mimetype": "text/x-python",
   "name": "python",
   "nbconvert_exporter": "python",
   "pygments_lexer": "ipython3",
   "version": 3
  },
  "orig_nbformat": 2,
  "kernelspec": {
   "name": "python_defaultSpec_1597157370972",
   "display_name": "Python 3.8.4 64-bit"
  }
 },
 "nbformat": 4,
 "nbformat_minor": 2,
 "cells": [
  {
   "cell_type": "code",
   "execution_count": 1,
   "metadata": {},
   "outputs": [
    {
     "output_type": "execute_result",
     "data": {
      "text/plain": "9"
     },
     "metadata": {},
     "execution_count": 1
    }
   ],
   "source": [
    "5+4"
   ]
  },
  {
   "cell_type": "code",
   "execution_count": 2,
   "metadata": {
    "tags": []
   },
   "outputs": [
    {
     "output_type": "stream",
     "name": "stdout",
     "text": "karis robalino\n"
    }
   ],
   "source": [
    "print(\"karis robalino\")\n"
   ]
  },
  {
   "cell_type": "code",
   "execution_count": 3,
   "metadata": {
    "tags": []
   },
   "outputs": [
    {
     "output_type": "stream",
     "name": "stdout",
     "text": "edison y karis\n"
    }
   ],
   "source": [
    "m = \"edison y\"\n",
    "print(m+\" karis\")"
   ]
  },
  {
   "cell_type": "code",
   "execution_count": 4,
   "metadata": {},
   "outputs": [
    {
     "output_type": "execute_result",
     "data": {
      "text/plain": "3"
     },
     "metadata": {},
     "execution_count": 4
    }
   ],
   "source": [
    "mi_lista = [1,2,3]\n",
    "mi_lista = [\"STRING\",100,23.2]\n",
    "len(mi_lista)\n"
   ]
  },
  {
   "cell_type": "code",
   "execution_count": 5,
   "metadata": {},
   "outputs": [
    {
     "output_type": "execute_result",
     "data": {
      "text/plain": "'one'"
     },
     "metadata": {},
     "execution_count": 5
    }
   ],
   "source": [
    "mi_lista = [\"one\",\"two\",\"three\"]\n",
    "mi_lista[0]\n"
   ]
  },
  {
   "cell_type": "code",
   "execution_count": 6,
   "metadata": {},
   "outputs": [
    {
     "output_type": "execute_result",
     "data": {
      "text/plain": "['two', 'three']"
     },
     "metadata": {},
     "execution_count": 6
    }
   ],
   "source": [
    "mi_lista = [\"one\",\"two\",\"three\"]\n",
    "mi_lista[1:]"
   ]
  },
  {
   "cell_type": "code",
   "execution_count": 7,
   "metadata": {},
   "outputs": [
    {
     "output_type": "execute_result",
     "data": {
      "text/plain": "['one', 'two', 'three', 'cuatro', 'cinco']"
     },
     "metadata": {},
     "execution_count": 7
    }
   ],
   "source": [
    "otro_lista = [\"cuatro\",\"cinco\"]\n",
    "mi_lista + otro_lista"
   ]
  },
  {
   "cell_type": "code",
   "execution_count": 10,
   "metadata": {
    "tags": []
   },
   "outputs": [
    {
     "output_type": "stream",
     "name": "stdout",
     "text": "['one', 'two', 'three', 'cuatro', 'cinco']\n"
    },
    {
     "output_type": "execute_result",
     "data": {
      "text/plain": "['one', 'two', 'three', 'cuatro', 'cinco']"
     },
     "metadata": {},
     "execution_count": 10
    }
   ],
   "source": [
    "nueva_lista= mi_lista + otro_lista\n",
    "print(nueva_lista)\n",
    "nueva_lista"
   ]
  },
  {
   "cell_type": "code",
   "execution_count": 11,
   "metadata": {},
   "outputs": [
    {
     "output_type": "execute_result",
     "data": {
      "text/plain": "['UNO TODO CAPS', 'two', 'three', 'cuatro', 'cinco']"
     },
     "metadata": {},
     "execution_count": 11
    }
   ],
   "source": [
    "nueva_lista[0]= \"UNO TODO CAPS\"\n",
    "nueva_lista"
   ]
  },
  {
   "cell_type": "code",
   "execution_count": 12,
   "metadata": {},
   "outputs": [
    {
     "output_type": "execute_result",
     "data": {
      "text/plain": "['UNO TODO CAPS', 'two', 'three', 'cuatro', 'cinco', 'six']"
     },
     "metadata": {},
     "execution_count": 12
    }
   ],
   "source": [
    "nueva_lista.append(\"six\")\n",
    "nueva_lista"
   ]
  },
  {
   "cell_type": "code",
   "execution_count": 13,
   "metadata": {},
   "outputs": [
    {
     "output_type": "execute_result",
     "data": {
      "text/plain": "['UNO TODO CAPS', 'two', 'three', 'cuatro', 'cinco', 'six', 'siete']"
     },
     "metadata": {},
     "execution_count": 13
    }
   ],
   "source": [
    "nueva_lista.append(\"siete\")\n",
    "nueva_lista"
   ]
  },
  {
   "cell_type": "code",
   "execution_count": 14,
   "metadata": {},
   "outputs": [
    {
     "output_type": "execute_result",
     "data": {
      "text/plain": "<function list.pop(index=-1, /)>"
     },
     "metadata": {},
     "execution_count": 14
    }
   ],
   "source": [
    "nueva_lista.pop\n"
   ]
  },
  {
   "cell_type": "code",
   "execution_count": 15,
   "metadata": {},
   "outputs": [
    {
     "output_type": "execute_result",
     "data": {
      "text/plain": "'siete'"
     },
     "metadata": {},
     "execution_count": 15
    }
   ],
   "source": [
    "nueva_lista.pop()"
   ]
  },
  {
   "cell_type": "code",
   "execution_count": 16,
   "metadata": {},
   "outputs": [
    {
     "output_type": "execute_result",
     "data": {
      "text/plain": "['UNO TODO CAPS', 'two', 'three', 'cuatro', 'cinco', 'six']"
     },
     "metadata": {},
     "execution_count": 16
    }
   ],
   "source": [
    "nueva_lista"
   ]
  },
  {
   "cell_type": "code",
   "execution_count": 19,
   "metadata": {},
   "outputs": [
    {
     "output_type": "execute_result",
     "data": {
      "text/plain": "'six'"
     },
     "metadata": {},
     "execution_count": 19
    }
   ],
   "source": [
    "popped_item = nueva_lista.pop()\n",
    "popped_item "
   ]
  },
  {
   "cell_type": "code",
   "execution_count": 29,
   "metadata": {},
   "outputs": [
    {
     "output_type": "execute_result",
     "data": {
      "text/plain": "'o'"
     },
     "metadata": {},
     "execution_count": 29
    }
   ],
   "source": [
    "#devuelve el ultimo valor de la lista\n",
    "nueva_lista.pop()"
   ]
  },
  {
   "cell_type": "code",
   "execution_count": 16,
   "metadata": {},
   "outputs": [
    {
     "output_type": "execute_result",
     "data": {
      "text/plain": "['a', 'i', 'o', 'u', 'x']"
     },
     "metadata": {},
     "execution_count": 16
    }
   ],
   "source": [
    "nueva_lista = [\"a\",\"x\",\"i\",\"o\",\"u\"]\n",
    "lista_num = [1,2,3,4]\n",
    "#ordenamiento alfabetico\n",
    "nueva_lista.sort()\n",
    "nueva_lista "
   ]
  },
  {
   "cell_type": "code",
   "execution_count": 24,
   "metadata": {},
   "outputs": [
    {
     "output_type": "execute_result",
     "data": {
      "text/plain": "[1, 2, 3, 4]"
     },
     "metadata": {},
     "execution_count": 24
    }
   ],
   "source": [
    "\n",
    "lista_num"
   ]
  },
  {
   "cell_type": "code",
   "execution_count": 21,
   "metadata": {},
   "outputs": [
    {
     "output_type": "execute_result",
     "data": {
      "text/plain": "NoneType"
     },
     "metadata": {},
     "execution_count": 21
    }
   ],
   "source": [
    "#asiganacion incorrecta de un nuevo tipo de lista VACIO NONETYPE\n",
    "mi_lista_ordenada = nueva_lista.sort()\n",
    "type(mi_lista_ordenada)"
   ]
  },
  {
   "cell_type": "code",
   "execution_count": 22,
   "metadata": {},
   "outputs": [
    {
     "output_type": "execute_result",
     "data": {
      "text/plain": "['a', 'i', 'o', 'u', 'x']"
     },
     "metadata": {},
     "execution_count": 22
    }
   ],
   "source": [
    "#asignacion correcta de un valor de una lista \n",
    "nueva_lista.sort()\n",
    "mi_lista_ordenada = nueva_lista\n",
    "mi_lista_ordenada"
   ]
  },
  {
   "cell_type": "code",
   "execution_count": 25,
   "metadata": {},
   "outputs": [
    {
     "output_type": "execute_result",
     "data": {
      "text/plain": "[4, 3, 2, 1]"
     },
     "metadata": {},
     "execution_count": 25
    }
   ],
   "source": [
    "#reverse listas\n",
    "lista_num.reverse()\n",
    "lista_num"
   ]
  },
  {
   "cell_type": "code",
   "execution_count": 31,
   "metadata": {},
   "outputs": [
    {
     "output_type": "execute_result",
     "data": {
      "text/plain": "[7, 'Edison y Karis', 2.5]"
     },
     "metadata": {},
     "execution_count": 31
    }
   ],
   "source": [
    "#lista puede tener variedad de tipos de datos\n",
    "lista_ejercicio = [7,\"Edison y Karis\",2.5]\n",
    "lista_ejercicio"
   ]
  },
  {
   "cell_type": "code",
   "execution_count": 34,
   "metadata": {},
   "outputs": [
    {
     "output_type": "execute_result",
     "data": {
      "text/plain": "'valor1'"
     },
     "metadata": {},
     "execution_count": 34
    }
   ],
   "source": [
    "#sintaxis de un diccionario\n",
    "mi_dic = {\"clave1\":\"valor1\",\"clave2\":\"valor2\"}\n",
    "mi_dic\n",
    "mi_dic[\"clave1\"]"
   ]
  },
  {
   "cell_type": "code",
   "execution_count": 37,
   "metadata": {},
   "outputs": [
    {
     "output_type": "execute_result",
     "data": {
      "text/plain": "0.25"
     },
     "metadata": {},
     "execution_count": 37
    }
   ],
   "source": [
    "#ejemplos diccionario\n",
    "precios_tienda = {\"manzana\":0.25,\"pera\":0.30,\"naranja\":0.10,\"leche\":0.80}\n",
    "precios_tienda[\"manzana\"]"
   ]
  },
  {
   "cell_type": "code",
   "execution_count": 39,
   "metadata": {},
   "outputs": [
    {
     "output_type": "execute_result",
     "data": {
      "text/plain": "[0, 1, 2]"
     },
     "metadata": {},
     "execution_count": 39
    }
   ],
   "source": [
    "d = {\"k1\":123,\"k2\":[0,1,2],\"k3\":{\"edison\":25}}\n",
    "d[\"k2\"]"
   ]
  },
  {
   "cell_type": "code",
   "execution_count": 42,
   "metadata": {},
   "outputs": [
    {
     "output_type": "execute_result",
     "data": {
      "text/plain": "25"
     },
     "metadata": {},
     "execution_count": 42
    }
   ],
   "source": [
    "#index de una variable\n",
    "d [\"k3\"][\"edison\"]"
   ]
  },
  {
   "cell_type": "code",
   "execution_count": 45,
   "metadata": {},
   "outputs": [
    {
     "output_type": "execute_result",
     "data": {
      "text/plain": "'C'"
     },
     "metadata": {},
     "execution_count": 45
    }
   ],
   "source": [
    "#indexacion de una variable y tamaño en una linea\n",
    "d = {\"clave\":[\"a\",\"b\",\"c\"]}\n",
    "d [\"clave\"][2].upper()"
   ]
  },
  {
   "cell_type": "code",
   "execution_count": 53,
   "metadata": {},
   "outputs": [
    {
     "output_type": "execute_result",
     "data": {
      "text/plain": "{'c1': 100, 'c2': 200, 'c3': 300, 'c4': 400}"
     },
     "metadata": {},
     "execution_count": 53
    }
   ],
   "source": [
    "#agregar una variable a un diccionario \n",
    "diccionario={\"c1\":100,\"c2\":200,\"c3\":300}\n",
    "diccionario[\"c4\"] = 400\n",
    "diccionario"
   ]
  },
  {
   "cell_type": "code",
   "execution_count": 59,
   "metadata": {},
   "outputs": [
    {
     "output_type": "execute_result",
     "data": {
      "text/plain": "dict_keys(['c1', 'c2', 'c3'])"
     },
     "metadata": {},
     "execution_count": 59
    }
   ],
   "source": [
    "#obtener valores y claves\n",
    "diccionario={\"c1\":100,\"c2\":200,\"c3\":300}\n",
    "diccionario.keys()"
   ]
  },
  {
   "cell_type": "code",
   "execution_count": 60,
   "metadata": {},
   "outputs": [
    {
     "output_type": "execute_result",
     "data": {
      "text/plain": "dict_values([100, 200, 300])"
     },
     "metadata": {},
     "execution_count": 60
    }
   ],
   "source": [
    "#obtener claves\n",
    "diccionario={\"c1\":100,\"c2\":200,\"c3\":300}\n",
    "diccionario.values()"
   ]
  },
  {
   "cell_type": "code",
   "execution_count": 62,
   "metadata": {},
   "outputs": [
    {
     "output_type": "execute_result",
     "data": {
      "text/plain": "dict_items([('c1', 100), ('c2', 200), ('c3', 300)])"
     },
     "metadata": {},
     "execution_count": 62
    }
   ],
   "source": [
    "diccionario.items()"
   ]
  },
  {
   "cell_type": "code",
   "execution_count": 64,
   "metadata": {},
   "outputs": [
    {
     "output_type": "execute_result",
     "data": {
      "text/plain": "tuple"
     },
     "metadata": {},
     "execution_count": 64
    }
   ],
   "source": [
    "#esto es una tupla\n",
    "t = (1,2,3,1,1,3,2,1,4)\n",
    "type(t)\n"
   ]
  },
  {
   "cell_type": "code",
   "execution_count": 68,
   "metadata": {},
   "outputs": [
    {
     "output_type": "execute_result",
     "data": {
      "text/plain": "list"
     },
     "metadata": {},
     "execution_count": 68
    }
   ],
   "source": [
    "#esto es una lista\n",
    "my_list = [1,2,3]\n",
    "type(my_list)"
   ]
  },
  {
   "cell_type": "code",
   "execution_count": 66,
   "metadata": {},
   "outputs": [
    {
     "output_type": "execute_result",
     "data": {
      "text/plain": "3"
     },
     "metadata": {},
     "execution_count": 66
    }
   ],
   "source": [
    "len (t)"
   ]
  },
  {
   "cell_type": "code",
   "execution_count": 72,
   "metadata": {},
   "outputs": [
    {
     "output_type": "execute_result",
     "data": {
      "text/plain": "4"
     },
     "metadata": {},
     "execution_count": 72
    }
   ],
   "source": [
    "#metodos de tuplas\n",
    "t = (1,2,3,1,1,3,2,1,4)\n",
    "t.count(1)"
   ]
  },
  {
   "cell_type": "code",
   "execution_count": 81,
   "metadata": {},
   "outputs": [
    {
     "output_type": "execute_result",
     "data": {
      "text/plain": "8"
     },
     "metadata": {},
     "execution_count": 81
    }
   ],
   "source": [
    "#la diferencia de tupla y lista es que son inmutables o no se pueden cambiar o reasignar vlores como en una lista\n",
    "#devuelve la primera posiccion del elemento\n",
    "t = (1,2,3,1,1,3,2,1,4)\n",
    "t.index(4)"
   ]
  },
  {
   "cell_type": "code",
   "execution_count": 82,
   "metadata": {},
   "outputs": [
    {
     "output_type": "execute_result",
     "data": {
      "text/plain": "(1, 2, [1, 2])"
     },
     "metadata": {},
     "execution_count": 82
    }
   ],
   "source": [
    "t=(1,2,[1,2])\n",
    "t"
   ]
  },
  {
   "cell_type": "code",
   "execution_count": null,
   "metadata": {},
   "outputs": [],
   "source": []
  }
 ]
}